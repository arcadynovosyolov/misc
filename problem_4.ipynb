{
 "cells": [
  {
   "cell_type": "markdown",
   "metadata": {},
   "source": [
    "# Задача для 4-го класса"
   ]
  },
  {
   "cell_type": "markdown",
   "metadata": {},
   "source": [
    "## Формулировка"
   ]
  },
  {
   "cell_type": "markdown",
   "metadata": {},
   "source": [
    "У Ивана и Петра вместе 980 рублей, у Ивана и Никиты вместе 930 рублей, а у Петра и Никиты вместе 890 рублей. Сколько денег у каждого из них?"
   ]
  },
  {
   "cell_type": "markdown",
   "metadata": {},
   "source": [
    "## Импорт инструментов"
   ]
  },
  {
   "cell_type": "code",
   "execution_count": 1,
   "metadata": {
    "collapsed": false
   },
   "outputs": [
    {
     "name": "stdout",
     "output_type": "stream",
     "text": [
      "Populating the interactive namespace from numpy and matplotlib\n"
     ]
    }
   ],
   "source": [
    "import pandas as pd\n",
    "%pylab inline"
   ]
  },
  {
   "cell_type": "markdown",
   "metadata": {},
   "source": [
    "## Исходные данные"
   ]
  },
  {
   "cell_type": "code",
   "execution_count": 2,
   "metadata": {
    "collapsed": false
   },
   "outputs": [],
   "source": [
    "# создаем имена для строк и столбцов\n",
    "nms = ['Иван','Петр','Никита']\n",
    "tog = ['Иван+Петр','Иван+Никита','Петр+Никита']\n",
    "\n",
    "# задаем матрицу системы\n",
    "a = pd.DataFrame([[1,1,0],[1,0,1],[0,1,1]], columns=nms, index=tog)\n",
    "\n",
    "# задаем правую часть системы\n",
    "b = pd.Series([980,930,890], index=tog)"
   ]
  },
  {
   "cell_type": "markdown",
   "metadata": {},
   "source": [
    "## Печать исходных данных"
   ]
  },
  {
   "cell_type": "code",
   "execution_count": 3,
   "metadata": {
    "collapsed": false
   },
   "outputs": [
    {
     "name": "stdout",
     "output_type": "stream",
     "text": [
      "---------------  матрица системы  ------------------\n",
      "             Иван  Петр  Никита\n",
      "Иван+Петр       1     1       0\n",
      "Иван+Никита     1     0       1\n",
      "Петр+Никита     0     1       1\n",
      "---------------  правая часть     ------------------\n",
      "Иван+Петр      980\n",
      "Иван+Никита    930\n",
      "Петр+Никита    890\n",
      "dtype: int64\n"
     ]
    }
   ],
   "source": [
    "print('---------------  матрица системы  ------------------')\n",
    "print(a)\n",
    "print('---------------  правая часть     ------------------')\n",
    "print(b)"
   ]
  },
  {
   "cell_type": "markdown",
   "metadata": {},
   "source": [
    "## Решение системы уравнений"
   ]
  },
  {
   "cell_type": "code",
   "execution_count": 4,
   "metadata": {
    "collapsed": true
   },
   "outputs": [],
   "source": [
    "# решаем линейную систему уравнений\n",
    "x = pd.Series(np.linalg.solve(a,b), index=nms).astype(int)"
   ]
  },
  {
   "cell_type": "markdown",
   "metadata": {},
   "source": [
    "## Печать результата"
   ]
  },
  {
   "cell_type": "code",
   "execution_count": 5,
   "metadata": {
    "collapsed": false
   },
   "outputs": [
    {
     "name": "stdout",
     "output_type": "stream",
     "text": [
      "Иван      510\n",
      "Петр      470\n",
      "Никита    420\n",
      "dtype: int32\n"
     ]
    }
   ],
   "source": [
    "print(x)"
   ]
  },
  {
   "cell_type": "markdown",
   "metadata": {},
   "source": [
    "## Интерпретация результата"
   ]
  },
  {
   "cell_type": "markdown",
   "metadata": {},
   "source": [
    "У Ивана было 510 рублей, у Петра - 470 рублей, и у Никиты - 420 рублей."
   ]
  }
 ],
 "metadata": {
  "kernelspec": {
   "display_name": "Python 3",
   "language": "python",
   "name": "python3"
  },
  "language_info": {
   "codemirror_mode": {
    "name": "ipython",
    "version": 3
   },
   "file_extension": ".py",
   "mimetype": "text/x-python",
   "name": "python",
   "nbconvert_exporter": "python",
   "pygments_lexer": "ipython3",
   "version": "3.6.0"
  }
 },
 "nbformat": 4,
 "nbformat_minor": 2
}
